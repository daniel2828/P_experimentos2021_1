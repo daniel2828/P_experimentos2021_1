{
 "cells": [
  {
   "cell_type": "markdown",
   "metadata": {},
   "source": [
    "<img style=\"float:left\" width=\"70%\" src=\"pics/escudo_COLOR_1L_DCHA.png\">\n",
    "<img style=\"float:right\" width=\"15%\" src=\"pics/PythonLogo.svg\">\n",
    "<br style=\"clear:both;\">\n",
    "\n",
    "\n",
    "# Minería de datos\n",
    "\n",
    "<h2 style=\"display: inline-block; padding: 4mm; padding-left: 2em; background-color: navy; line-height: 1.3em; color: white; border-radius: 10px;\">Práctica 4.1: Experimentos en Sklearn Parte 1</h2>\n",
    "\n",
    "## Docentes\n",
    "\n",
    " - José Francisco Diez Pastor"
   ]
  },
  {
   "cell_type": "markdown",
   "metadata": {},
   "source": [
    "<a id=\"index\"></a>\n",
    "## Tabla de contenidos del notebook\n",
    "\n",
    "1. [Introducción](#intro)\n",
    "2. [Carga de datos](#datos)\n",
    "3. [Experimentos](#experimentos)\n",
    "4. [Resultados](#resultados)\n",
    "     \n",
    "\n"
   ]
  },
  {
   "cell_type": "markdown",
   "metadata": {},
   "source": [
    "## Introducción <a id=\"intro\"></a><a href=\"#index\"><i class=\"fa fa-list-alt\" aria-hidden=\"true\"></i></a>\n",
    "\n",
    "Esta práctica final está dividida en partes porque aún no se han visto todos los conceptos necesarios para mandar el enunciado final.\n",
    "\n",
    "El notebook a entregar no será este, sino el definitivo que se obtendrá después de las explicaciones y tareas presentadas en la parte final.\n",
    "\n",
    "La práctica se tratará de una experimentación utilizando los conjuntos de datos de Sklearn.\n",
    "\n",
    "En pasos siguientes veremos como usar el algoritmos implementado `Regresión Logistica` para usarlo dentro del propio Sklearn.\n"
   ]
  },
  {
   "cell_type": "markdown",
   "metadata": {},
   "source": [
    "## Carga de datos <a id=\"datos\"></a><a href=\"#index\"><i class=\"fa fa-list-alt\" aria-hidden=\"true\"></i></a>"
   ]
  },
  {
   "cell_type": "markdown",
   "metadata": {},
   "source": [
    "En la biblioteca Sklearn tenemos los siguientes conjuntos de datos de clasificación.\n",
    "\n",
    "- Iris\n",
    "    -  load_iris()\n",
    "- MNIST \n",
    "    - load_digits()    \n",
    "- Wine\n",
    "    - load_wine()    \n",
    "- breast_cancer\n",
    "    - load_breast_cancer()\n"
   ]
  },
  {
   "cell_type": "markdown",
   "metadata": {},
   "source": [
    "## Tarea 1\n",
    "\n",
    "Carga los datos de una forma relativamente automatizada.\n",
    "\n",
    "Recuerda que en Python las funciones son elementos de primer nivel y se pueden guardar en listas si así lo deseas.\n",
    "\n",
    "Crea una tabla que tenga 4 filas, una por dataset y tenga como columnas:\n",
    "- Número de ejemplos.\n",
    "- Número de atributos.\n",
    "- Número de clases\n",
    "- Ratio de desequilibrio (tamaño de la clase más pequeña / tamaño de la clase más grande)"
   ]
  },
  {
   "cell_type": "code",
   "execution_count": 8,
   "metadata": {},
   "outputs": [
    {
     "name": "stdout",
     "output_type": "stream",
     "text": [
      "Número de ejemplos:  150\n",
      "Número de atributos:  4\n",
      "Número de clases:  3\n",
      "Ratio de desequilibro:  [0 0 0 0 0 0 0 0 0 0 0 0 0 0 0 0 0 0 0 0 0 0 0 0 0 0 0 0 0 0 0 0 0 0 0 0 0\n",
      " 0 0 0 0 0 0 0 0 0 0 0 0 0 1 1 1 1 1 1 1 1 1 1 1 1 1 1 1 1 1 1 1 1 1 1 1 1\n",
      " 1 1 1 1 1 1 1 1 1 1 1 1 1 1 1 1 1 1 1 1 1 1 1 1 1 1 2 2 2 2 2 2 2 2 2 2 2\n",
      " 2 2 2 2 2 2 2 2 2 2 2 2 2 2 2 2 2 2 2 2 2 2 2 2 2 2 2 2 2 2 2 2 2 2 2 2 2\n",
      " 2 2]\n",
      "Número de ejemplos:  1797\n",
      "Número de atributos:  64\n",
      "Número de clases:  10\n",
      "Ratio de desequilibro:  [0 1 2 ... 8 9 8]\n",
      "Número de ejemplos:  178\n",
      "Número de atributos:  13\n",
      "Número de clases:  3\n",
      "Ratio de desequilibro:  [0 0 0 0 0 0 0 0 0 0 0 0 0 0 0 0 0 0 0 0 0 0 0 0 0 0 0 0 0 0 0 0 0 0 0 0 0\n",
      " 0 0 0 0 0 0 0 0 0 0 0 0 0 0 0 0 0 0 0 0 0 0 1 1 1 1 1 1 1 1 1 1 1 1 1 1 1\n",
      " 1 1 1 1 1 1 1 1 1 1 1 1 1 1 1 1 1 1 1 1 1 1 1 1 1 1 1 1 1 1 1 1 1 1 1 1 1\n",
      " 1 1 1 1 1 1 1 1 1 1 1 1 1 1 1 1 1 1 1 2 2 2 2 2 2 2 2 2 2 2 2 2 2 2 2 2 2\n",
      " 2 2 2 2 2 2 2 2 2 2 2 2 2 2 2 2 2 2 2 2 2 2 2 2 2 2 2 2 2 2]\n",
      "Número de ejemplos:  569\n",
      "Número de atributos:  30\n",
      "Número de clases:  2\n",
      "Ratio de desequilibro:  [0 0 0 0 0 0 0 0 0 0 0 0 0 0 0 0 0 0 0 1 1 1 0 0 0 0 0 0 0 0 0 0 0 0 0 0 0\n",
      " 1 0 0 0 0 0 0 0 0 1 0 1 1 1 1 1 0 0 1 0 0 1 1 1 1 0 1 0 0 1 1 1 1 0 1 0 0\n",
      " 1 0 1 0 0 1 1 1 0 0 1 0 0 0 1 1 1 0 1 1 0 0 1 1 1 0 0 1 1 1 1 0 1 1 0 1 1\n",
      " 1 1 1 1 1 1 0 0 0 1 0 0 1 1 1 0 0 1 0 1 0 0 1 0 0 1 1 0 1 1 0 1 1 1 1 0 1\n",
      " 1 1 1 1 1 1 1 1 0 1 1 1 1 0 0 1 0 1 1 0 0 1 1 0 0 1 1 1 1 0 1 1 0 0 0 1 0\n",
      " 1 0 1 1 1 0 1 1 0 0 1 0 0 0 0 1 0 0 0 1 0 1 0 1 1 0 1 0 0 0 0 1 1 0 0 1 1\n",
      " 1 0 1 1 1 1 1 0 0 1 1 0 1 1 0 0 1 0 1 1 1 1 0 1 1 1 1 1 0 1 0 0 0 0 0 0 0\n",
      " 0 0 0 0 0 0 0 1 1 1 1 1 1 0 1 0 1 1 0 1 1 0 1 0 0 1 1 1 1 1 1 1 1 1 1 1 1\n",
      " 1 0 1 1 0 1 0 1 1 1 1 1 1 1 1 1 1 1 1 1 1 0 1 1 1 0 1 0 1 1 1 1 0 0 0 1 1\n",
      " 1 1 0 1 0 1 0 1 1 1 0 1 1 1 1 1 1 1 0 0 0 1 1 1 1 1 1 1 1 1 1 1 0 0 1 0 0\n",
      " 0 1 0 0 1 1 1 1 1 0 1 1 1 1 1 0 1 1 1 0 1 1 0 0 1 1 1 1 1 1 0 1 1 1 1 1 1\n",
      " 1 0 1 1 1 1 1 0 1 1 0 1 1 1 1 1 1 1 1 1 1 1 1 0 1 0 0 1 0 1 1 1 1 1 0 1 1\n",
      " 0 1 0 1 1 0 1 0 1 1 1 1 1 1 1 1 0 0 1 1 1 1 1 1 0 1 1 1 1 1 1 1 1 1 1 0 1\n",
      " 1 1 1 1 1 1 0 1 0 1 1 0 1 1 1 1 1 0 0 1 0 1 0 1 1 1 1 1 0 1 1 0 1 0 1 0 0\n",
      " 1 1 1 0 1 1 1 1 1 1 1 1 1 1 1 0 1 0 0 1 1 1 1 1 1 1 1 1 1 1 1 1 1 1 1 1 1\n",
      " 1 1 1 1 1 1 1 0 0 0 0 0 0 1]\n"
     ]
    }
   ],
   "source": [
    "'''\n",
    "Pista\n",
    "\n",
    "Usar funciones en una lista, como si se tratase de cualquier otro tipo de datos.\n",
    "\n",
    "'''\n",
    "%matplotlib inline\n",
    "from sklearn import datasets\n",
    "def carga_datos1():\n",
    "    return datasets.load_iris()\n",
    "def carga_datos2():\n",
    "    return datasets.load_digits()\n",
    "def carga_datos3():\n",
    "    return datasets.load_wine()\n",
    "def carga_datos4():\n",
    "    return datasets.load_breast_cancer()\n",
    "\n",
    "lista_carga_datos = [carga_datos1, carga_datos2, carga_datos3,carga_datos4]\n",
    "\n",
    "for f in lista_carga_datos:\n",
    "    datos = f()\n",
    "    print(\"Número de ejemplos: \" , len(datos.data))\n",
    "    print(\"Número de atributos: \" , len(datos.feature_names))\n",
    "    print(\"Número de clases: \" , len(datos.target_names))\n",
    "    print(\"Ratio de desequilibro: \" , datos.target)"
   ]
  },
  {
   "cell_type": "code",
   "execution_count": null,
   "metadata": {},
   "outputs": [],
   "source": []
  },
  {
   "cell_type": "code",
   "execution_count": null,
   "metadata": {},
   "outputs": [],
   "source": []
  },
  {
   "cell_type": "markdown",
   "metadata": {},
   "source": [
    "## Experimentos <a id=\"experimentos\"></a><a href=\"#index\"><i class=\"fa fa-list-alt\" aria-hidden=\"true\"></i></a>"
   ]
  },
  {
   "cell_type": "markdown",
   "metadata": {},
   "source": [
    "## Tarea 2\n",
    "\n",
    "- Realiza experimentos con una batería de 6 algoritmos, 1 sería Random Forest con 100 árboles y los otros 5 a tu elección.\n",
    "\n",
    "- Usa validación cruzada de 5 folds.\n",
    "\n",
    "- Obten el accuracy de cada método para cada conjunto de datos.\n",
    "\n",
    "- Crea una tabla de 4 x 6, con el accuracy de cada método."
   ]
  },
  {
   "cell_type": "code",
   "execution_count": null,
   "metadata": {},
   "outputs": [],
   "source": []
  },
  {
   "cell_type": "code",
   "execution_count": null,
   "metadata": {},
   "outputs": [],
   "source": []
  },
  {
   "cell_type": "markdown",
   "metadata": {},
   "source": [
    "## Resultados <a id=\"resultados\"></a><a href=\"#index\"><i class=\"fa fa-list-alt\" aria-hidden=\"true\"></i></a>\n"
   ]
  },
  {
   "cell_type": "markdown",
   "metadata": {},
   "source": [
    "## Tarea 3\n",
    "\n",
    "Determina cual es el mejor algoritmo de manera *global*\n",
    "\n",
    "Vamos a usar para ello el método del ranking promedio.\n",
    "\n",
    "En ese método se ordenan los algoritmos de acuerdo a su desempeño y se les dan puntos según el lugar que ocupan, al algoritmo con mejor desempeño se le da 1 punto, al segundo mejor 2, si hay dos métodos empatados se reparten los puntos etc.\n",
    "\n",
    "El ranking promedio es la media de los rankings obtenidos para cada conjunto de datos.\n",
    "\n",
    "Calcula el ranking promedio de cada método."
   ]
  },
  {
   "cell_type": "code",
   "execution_count": 7,
   "metadata": {},
   "outputs": [
    {
     "data": {
      "text/html": [
       "<div>\n",
       "<style scoped>\n",
       "    .dataframe tbody tr th:only-of-type {\n",
       "        vertical-align: middle;\n",
       "    }\n",
       "\n",
       "    .dataframe tbody tr th {\n",
       "        vertical-align: top;\n",
       "    }\n",
       "\n",
       "    .dataframe thead th {\n",
       "        text-align: right;\n",
       "    }\n",
       "</style>\n",
       "<table border=\"1\" class=\"dataframe\">\n",
       "  <thead>\n",
       "    <tr style=\"text-align: right;\">\n",
       "      <th></th>\n",
       "      <th>Método 1</th>\n",
       "      <th>Método 2</th>\n",
       "      <th>Método 3</th>\n",
       "    </tr>\n",
       "  </thead>\n",
       "  <tbody>\n",
       "    <tr>\n",
       "      <th>0</th>\n",
       "      <td>0.90</td>\n",
       "      <td>0.91</td>\n",
       "      <td>0.92</td>\n",
       "    </tr>\n",
       "    <tr>\n",
       "      <th>1</th>\n",
       "      <td>0.95</td>\n",
       "      <td>0.94</td>\n",
       "      <td>0.84</td>\n",
       "    </tr>\n",
       "    <tr>\n",
       "      <th>2</th>\n",
       "      <td>0.99</td>\n",
       "      <td>0.90</td>\n",
       "      <td>0.80</td>\n",
       "    </tr>\n",
       "    <tr>\n",
       "      <th>3</th>\n",
       "      <td>0.85</td>\n",
       "      <td>0.85</td>\n",
       "      <td>0.81</td>\n",
       "    </tr>\n",
       "  </tbody>\n",
       "</table>\n",
       "</div>"
      ],
      "text/plain": [
       "   Método 1  Método 2  Método 3\n",
       "0      0.90      0.91      0.92\n",
       "1      0.95      0.94      0.84\n",
       "2      0.99      0.90      0.80\n",
       "3      0.85      0.85      0.81"
      ]
     },
     "execution_count": 7,
     "metadata": {},
     "output_type": "execute_result"
    }
   ],
   "source": [
    "import pandas as pd\n",
    "\n",
    "df_results = pd.DataFrame({\"Método 1\":[0.9,0.95,0.99,0.85],\n",
    "              \"Método 2\":[0.91,0.94,0.9,0.85],\n",
    "              \"Método 3\":[0.92,0.84,0.8,0.81]})\n",
    "df_results"
   ]
  },
  {
   "cell_type": "code",
   "execution_count": 11,
   "metadata": {},
   "outputs": [
    {
     "data": {
      "text/html": [
       "<div>\n",
       "<style scoped>\n",
       "    .dataframe tbody tr th:only-of-type {\n",
       "        vertical-align: middle;\n",
       "    }\n",
       "\n",
       "    .dataframe tbody tr th {\n",
       "        vertical-align: top;\n",
       "    }\n",
       "\n",
       "    .dataframe thead th {\n",
       "        text-align: right;\n",
       "    }\n",
       "</style>\n",
       "<table border=\"1\" class=\"dataframe\">\n",
       "  <thead>\n",
       "    <tr style=\"text-align: right;\">\n",
       "      <th></th>\n",
       "      <th>Método 1</th>\n",
       "      <th>Método 2</th>\n",
       "      <th>Método 3</th>\n",
       "    </tr>\n",
       "  </thead>\n",
       "  <tbody>\n",
       "    <tr>\n",
       "      <th>0</th>\n",
       "      <td>3.0</td>\n",
       "      <td>2.0</td>\n",
       "      <td>1.0</td>\n",
       "    </tr>\n",
       "    <tr>\n",
       "      <th>1</th>\n",
       "      <td>1.0</td>\n",
       "      <td>2.0</td>\n",
       "      <td>3.0</td>\n",
       "    </tr>\n",
       "    <tr>\n",
       "      <th>2</th>\n",
       "      <td>1.0</td>\n",
       "      <td>2.0</td>\n",
       "      <td>3.0</td>\n",
       "    </tr>\n",
       "    <tr>\n",
       "      <th>3</th>\n",
       "      <td>1.5</td>\n",
       "      <td>1.5</td>\n",
       "      <td>3.0</td>\n",
       "    </tr>\n",
       "  </tbody>\n",
       "</table>\n",
       "</div>"
      ],
      "text/plain": [
       "   Método 1  Método 2  Método 3\n",
       "0       3.0       2.0       1.0\n",
       "1       1.0       2.0       3.0\n",
       "2       1.0       2.0       3.0\n",
       "3       1.5       1.5       3.0"
      ]
     },
     "execution_count": 11,
     "metadata": {},
     "output_type": "execute_result"
    }
   ],
   "source": [
    "# En pandas hay un método rank que nos facilita mucho el trabajo\n",
    "df_results.rank(axis=1, ascending = False)"
   ]
  },
  {
   "cell_type": "code",
   "execution_count": null,
   "metadata": {},
   "outputs": [],
   "source": []
  }
 ],
 "metadata": {
  "kernelspec": {
   "display_name": "Python 3",
   "language": "python",
   "name": "python3"
  },
  "language_info": {
   "codemirror_mode": {
    "name": "ipython",
    "version": 3
   },
   "file_extension": ".py",
   "mimetype": "text/x-python",
   "name": "python",
   "nbconvert_exporter": "python",
   "pygments_lexer": "ipython3",
   "version": "3.8.5"
  }
 },
 "nbformat": 4,
 "nbformat_minor": 2
}
